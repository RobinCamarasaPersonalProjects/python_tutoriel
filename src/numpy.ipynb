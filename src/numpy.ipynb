{
 "cells": [
  {
   "cell_type": "markdown",
   "metadata": {},
   "source": "# Numpy"
  },
  {
   "cell_type": "markdown",
   "metadata": {},
   "source": "## Installation et import"
  },
  {
   "cell_type": "markdown",
   "metadata": {},
   "source": "Installer numpy via le gestionnaire de dependance pip grace a la commande :\n\npip install numpy\n\nImport de numpy dans un fichier"
  },
  {
   "cell_type": "code",
   "execution_count": 2,
   "metadata": {},
   "outputs": [],
   "source": "import numpy as np"
  },
  {
   "cell_type": "markdown",
   "metadata": {},
   "source": "## Description"
  },
  {
   "cell_type": "markdown",
   "metadata": {},
   "source": "Numpy est une libraire optimisee pour le calcul mathematique"
  },
  {
   "cell_type": "markdown",
   "metadata": {},
   "source": "## Utilisation"
  },
  {
   "cell_type": "markdown",
   "metadata": {},
   "source": "Creation d'objets"
  },
  {
   "cell_type": "code",
   "execution_count": 4,
   "metadata": {},
   "outputs": [
    {
     "data": {
      "text/plain": "array([0, 1, 3])"
     },
     "execution_count": 4,
     "metadata": {},
     "output_type": "execute_result"
    }
   ],
   "source": "np.array([0, 1, 3])"
  },
  {
   "cell_type": "code",
   "execution_count": 5,
   "metadata": {},
   "outputs": [
    {
     "data": {
      "text/plain": "array([[0, 1, 3],\n       [0, 1, 3]])"
     },
     "execution_count": 5,
     "metadata": {},
     "output_type": "execute_result"
    }
   ],
   "source": "np.array([[0, 1, 3], [0, 1, 3]])"
  },
  {
   "cell_type": "code",
   "execution_count": 6,
   "metadata": {},
   "outputs": [
    {
     "data": {
      "text/plain": "array([[[ 0,  1,  2,  3,  4],\n        [ 5,  6,  7,  8,  9],\n        [10, 11, 12, 13, 14],\n        [15, 16, 17, 18, 19]],\n\n       [[20, 21, 22, 23, 24],\n        [25, 26, 27, 28, 29],\n        [30, 31, 32, 33, 34],\n        [35, 36, 37, 38, 39]],\n\n       [[40, 41, 42, 43, 44],\n        [45, 46, 47, 48, 49],\n        [50, 51, 52, 53, 54],\n        [55, 56, 57, 58, 59]]])"
     },
     "execution_count": 6,
     "metadata": {},
     "output_type": "execute_result"
    }
   ],
   "source": "np.arange(3 * 4 * 5).reshape(3, 4, 5)"
  },
  {
   "cell_type": "code",
   "execution_count": 7,
   "metadata": {},
   "outputs": [
    {
     "data": {
      "text/plain": "array([[1., 0., 0.],\n       [0., 1., 0.],\n       [0., 0., 1.]])"
     },
     "execution_count": 7,
     "metadata": {},
     "output_type": "execute_result"
    }
   ],
   "source": "np.eye(3)"
  },
  {
   "cell_type": "code",
   "execution_count": 8,
   "metadata": {},
   "outputs": [
    {
     "data": {
      "text/plain": "array([[0., 0., 0., 0., 0.],\n       [0., 0., 0., 0., 0.],\n       [0., 0., 0., 0., 0.],\n       [0., 0., 0., 0., 0.],\n       [0., 0., 0., 0., 0.]])"
     },
     "execution_count": 8,
     "metadata": {},
     "output_type": "execute_result"
    }
   ],
   "source": "np.zeros((5, 5))"
  },
  {
   "cell_type": "markdown",
   "metadata": {},
   "source": "Obtention de la shape d'un array"
  },
  {
   "cell_type": "code",
   "execution_count": 9,
   "metadata": {},
   "outputs": [
    {
     "data": {
      "text/plain": "(5, 5)"
     },
     "execution_count": 9,
     "metadata": {},
     "output_type": "execute_result"
    }
   ],
   "source": "np.eye(5).shape"
  },
  {
   "cell_type": "code",
   "execution_count": 10,
   "metadata": {},
   "outputs": [
    {
     "data": {
      "text/plain": "(4,)"
     },
     "execution_count": 10,
     "metadata": {},
     "output_type": "execute_result"
    }
   ],
   "source": "np.arange(4).shape"
  },
  {
   "cell_type": "markdown",
   "metadata": {},
   "source": "Ajout d une valeur a tous les elements"
  },
  {
   "cell_type": "code",
   "execution_count": 11,
   "metadata": {},
   "outputs": [
    {
     "data": {
      "text/plain": "array([[1., 1., 1., 1., 1.],\n       [1., 1., 1., 1., 1.],\n       [1., 1., 1., 1., 1.],\n       [1., 1., 1., 1., 1.],\n       [1., 1., 1., 1., 1.]])"
     },
     "execution_count": 11,
     "metadata": {},
     "output_type": "execute_result"
    }
   ],
   "source": "np.zeros((5,5)) + 1"
  },
  {
   "cell_type": "markdown",
   "metadata": {},
   "source": "Somme terme a terme"
  },
  {
   "cell_type": "code",
   "execution_count": 12,
   "metadata": {},
   "outputs": [
    {
     "data": {
      "text/plain": "array([[ 1.,  1.,  2.,  3.,  4.],\n       [ 5.,  7.,  7.,  8.,  9.],\n       [10., 11., 13., 13., 14.],\n       [15., 16., 17., 19., 19.],\n       [20., 21., 22., 23., 25.]])"
     },
     "execution_count": 12,
     "metadata": {},
     "output_type": "execute_result"
    }
   ],
   "source": "np.eye(5) + np.arange(5*5).reshape(5, 5)"
  },
  {
   "cell_type": "markdown",
   "metadata": {},
   "source": "Multiplication terme a terme"
  },
  {
   "cell_type": "code",
   "execution_count": 13,
   "metadata": {},
   "outputs": [
    {
     "data": {
      "text/plain": "array([[ 1.,  1.,  2.,  3.,  4.],\n       [ 5.,  7.,  7.,  8.,  9.],\n       [10., 11., 13., 13., 14.],\n       [15., 16., 17., 19., 19.],\n       [20., 21., 22., 23., 25.]])"
     },
     "execution_count": 13,
     "metadata": {},
     "output_type": "execute_result"
    }
   ],
   "source": "np.eye(5) + np.arange(5*5).reshape(5, 5)"
  },
  {
   "cell_type": "markdown",
   "metadata": {},
   "source": "Multiplication matricielle"
  },
  {
   "cell_type": "code",
   "execution_count": 14,
   "metadata": {},
   "outputs": [
    {
     "data": {
      "text/plain": "array([[ 0.,  1.,  2.,  3.,  4.],\n       [ 5.,  6.,  7.,  8.,  9.],\n       [10., 11., 12., 13., 14.],\n       [15., 16., 17., 18., 19.],\n       [20., 21., 22., 23., 24.]])"
     },
     "execution_count": 14,
     "metadata": {},
     "output_type": "execute_result"
    }
   ],
   "source": "np.dot(np.eye(5), np.arange(5*5).reshape(5, 5))"
  },
  {
   "cell_type": "markdown",
   "metadata": {},
   "source": "Obtention d'elements (idem que pour les listes pour chaque elements)"
  },
  {
   "cell_type": "code",
   "execution_count": 15,
   "metadata": {},
   "outputs": [],
   "source": "arr = np.arange(2*3*4).reshape(2, 3, 4)"
  },
  {
   "cell_type": "code",
   "execution_count": 16,
   "metadata": {},
   "outputs": [
    {
     "data": {
      "text/plain": "array([[ 4],\n       [16]])"
     },
     "execution_count": 16,
     "metadata": {},
     "output_type": "execute_result"
    }
   ],
   "source": "arr[:,1:-1,0]"
  },
  {
   "cell_type": "markdown",
   "metadata": {},
   "source": "## Algebre lineaire"
  },
  {
   "cell_type": "markdown",
   "metadata": {},
   "source": "numpy possede un package d'algebre lineaire np.linalg. Exemple d utilisation avec la fonction inv qui inverse une matrice"
  },
  {
   "cell_type": "code",
   "execution_count": 17,
   "metadata": {},
   "outputs": [
    {
     "data": {
      "text/plain": "array([[-1.5,  0.5],\n       [ 1. ,  0. ]])"
     },
     "execution_count": 17,
     "metadata": {},
     "output_type": "execute_result"
    }
   ],
   "source": "np.linalg.inv(np.arange(4).reshape((2,2)))"
  }
 ],
 "metadata": {
  "kernelspec": {
   "display_name": "Python 3",
   "language": "python",
   "name": "python3"
  },
  "language_info": {
   "codemirror_mode": {
    "name": "ipython",
    "version": 3
   },
   "file_extension": ".py",
   "mimetype": "text/x-python",
   "name": "python",
   "nbconvert_exporter": "python",
   "pygments_lexer": "ipython3",
   "version": "3.6.8"
  }
 },
 "nbformat": 4,
 "nbformat_minor": 4
}
