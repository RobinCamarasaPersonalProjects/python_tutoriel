{
 "cells": [
  {
   "cell_type": "markdown",
   "metadata": {},
   "source": "# List and strings"
  },
  {
   "cell_type": "markdown",
   "metadata": {},
   "source": "Les lists et les strings sont des objets iterables (cf python basics) Il est donc particulierement pratique de les manipuler dans des boucles for."
  },
  {
   "cell_type": "code",
   "execution_count": 4,
   "metadata": {},
   "outputs": [
    {
     "name": "stdout",
     "output_type": "stream",
     "text": "a\nb\nc\nd\ne\nf\ng\nh\ni\nj\nk\nl\nm\nn\no\np\nq\nr\ns\nt\nu\nv\nw\nx\ny\nz\n"
    }
   ],
   "source": "alphabet = 'abcdefghijklmnopqrstuvwxyz'\nfor lettre in alphabet:\n    print(lettre)"
  },
  {
   "cell_type": "code",
   "execution_count": 5,
   "metadata": {},
   "outputs": [
    {
     "name": "stdout",
     "output_type": "stream",
     "text": "1\n3\n5\n7\n"
    }
   ],
   "source": "primes = [1, 3, 5, 7]\nfor prime in primes:\n    print(prime)"
  },
  {
   "cell_type": "markdown",
   "metadata": {},
   "source": "# Manipulation de listes"
  },
  {
   "cell_type": "markdown",
   "metadata": {},
   "source": "Initialisation d'une liste"
  },
  {
   "cell_type": "code",
   "execution_count": 6,
   "metadata": {},
   "outputs": [
    {
     "name": "stdout",
     "output_type": "stream",
     "text": "[0, 1, 2, 3, 4]\n"
    }
   ],
   "source": "liste = list(range(5))\nprint(liste)"
  },
  {
   "cell_type": "code",
   "execution_count": 7,
   "metadata": {},
   "outputs": [
    {
     "name": "stdout",
     "output_type": "stream",
     "text": "[2, 3, 4, 9]\n"
    }
   ],
   "source": "liste=[2, 3, 4, 9]\nprint(liste)"
  },
  {
   "cell_type": "markdown",
   "metadata": {},
   "source": "Ajout d'element"
  },
  {
   "cell_type": "code",
   "execution_count": 8,
   "metadata": {},
   "outputs": [
    {
     "name": "stdout",
     "output_type": "stream",
     "text": "[2, 3, 4, 9, 8]\n"
    }
   ],
   "source": "liste.append(8)\nprint(liste)"
  },
  {
   "cell_type": "markdown",
   "metadata": {},
   "source": "Renvoie du premier element de la liste"
  },
  {
   "cell_type": "code",
   "execution_count": 9,
   "metadata": {},
   "outputs": [
    {
     "name": "stdout",
     "output_type": "stream",
     "text": "8\n[2, 3, 4, 9]\n"
    }
   ],
   "source": "element = liste.pop()\nprint(element)\nprint(liste)"
  },
  {
   "cell_type": "markdown",
   "metadata": {},
   "source": "Inverser la liste"
  },
  {
   "cell_type": "code",
   "execution_count": 10,
   "metadata": {},
   "outputs": [
    {
     "name": "stdout",
     "output_type": "stream",
     "text": "[9, 4, 3, 2]\n"
    }
   ],
   "source": "liste.reverse()\nprint(liste)"
  },
  {
   "cell_type": "markdown",
   "metadata": {},
   "source": "Copie de liste"
  },
  {
   "cell_type": "code",
   "execution_count": 11,
   "metadata": {},
   "outputs": [
    {
     "data": {
      "text/plain": "[9, 4, 3, 2]"
     },
     "execution_count": 11,
     "metadata": {},
     "output_type": "execute_result"
    }
   ],
   "source": "liste[:]"
  },
  {
   "cell_type": "markdown",
   "metadata": {},
   "source": "Obtention d element(s)"
  },
  {
   "cell_type": "code",
   "execution_count": 12,
   "metadata": {},
   "outputs": [
    {
     "data": {
      "text/plain": "3"
     },
     "execution_count": 12,
     "metadata": {},
     "output_type": "execute_result"
    }
   ],
   "source": "liste[2]"
  },
  {
   "cell_type": "code",
   "execution_count": 13,
   "metadata": {},
   "outputs": [
    {
     "data": {
      "text/plain": "[9, 4, 3]"
     },
     "execution_count": 13,
     "metadata": {},
     "output_type": "execute_result"
    }
   ],
   "source": "liste[:-1]"
  },
  {
   "cell_type": "code",
   "execution_count": 14,
   "metadata": {},
   "outputs": [
    {
     "data": {
      "text/plain": "[4, 3, 2]"
     },
     "execution_count": 14,
     "metadata": {},
     "output_type": "execute_result"
    }
   ],
   "source": "liste[1:]"
  },
  {
   "cell_type": "code",
   "execution_count": 15,
   "metadata": {},
   "outputs": [
    {
     "data": {
      "text/plain": "[3]"
     },
     "execution_count": 15,
     "metadata": {},
     "output_type": "execute_result"
    }
   ],
   "source": "liste[2:-1]"
  },
  {
   "cell_type": "markdown",
   "metadata": {},
   "source": "Savoir si un element est dans une liste"
  },
  {
   "cell_type": "code",
   "execution_count": 16,
   "metadata": {},
   "outputs": [
    {
     "data": {
      "text/plain": "False"
     },
     "execution_count": 16,
     "metadata": {},
     "output_type": "execute_result"
    }
   ],
   "source": "1 in liste"
  },
  {
   "cell_type": "markdown",
   "metadata": {},
   "source": "Cette liste de fonction est non exhaustive"
  },
  {
   "cell_type": "markdown",
   "metadata": {},
   "source": "# Manipulation de strings"
  },
  {
   "cell_type": "markdown",
   "metadata": {},
   "source": "Initialisation de string"
  },
  {
   "cell_type": "code",
   "execution_count": 17,
   "metadata": {},
   "outputs": [],
   "source": "s = '4'"
  },
  {
   "cell_type": "code",
   "execution_count": 18,
   "metadata": {},
   "outputs": [],
   "source": "s = str(4)"
  },
  {
   "cell_type": "markdown",
   "metadata": {},
   "source": "Concatenation"
  },
  {
   "cell_type": "code",
   "execution_count": 19,
   "metadata": {},
   "outputs": [
    {
     "data": {
      "text/plain": "'aaabbb'"
     },
     "execution_count": 19,
     "metadata": {},
     "output_type": "execute_result"
    }
   ],
   "source": "'aaa' + 'bbb'"
  },
  {
   "cell_type": "markdown",
   "metadata": {},
   "source": "Remplacement d un caractere"
  },
  {
   "cell_type": "code",
   "execution_count": 20,
   "metadata": {},
   "outputs": [
    {
     "data": {
      "text/plain": "'amsa'"
     },
     "execution_count": 20,
     "metadata": {},
     "output_type": "execute_result"
    }
   ],
   "source": "'emse'.replace('e', 'a')"
  },
  {
   "cell_type": "markdown",
   "metadata": {},
   "source": "L obtention d elements ou de la longueur de string est identique que pour les listes. Cette liste de fonction n est pas exhaustive."
  }
 ],
 "metadata": {
  "kernelspec": {
   "display_name": "Python 3",
   "language": "python",
   "name": "python3"
  },
  "language_info": {
   "codemirror_mode": {
    "name": "ipython",
    "version": 3
   },
   "file_extension": ".py",
   "mimetype": "text/x-python",
   "name": "python",
   "nbconvert_exporter": "python",
   "pygments_lexer": "ipython3",
   "version": "3.6.8"
  }
 },
 "nbformat": 4,
 "nbformat_minor": 4
}
